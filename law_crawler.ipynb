{
 "cells": [
  {
   "cell_type": "code",
   "execution_count": 11,
   "metadata": {},
   "outputs": [
    {
     "data": {
      "text/plain": [
       "10529"
      ]
     },
     "execution_count": 11,
     "metadata": {},
     "output_type": "execute_result"
    }
   ],
   "source": [
    "import fitz  # Import the PyMuPDF library\n",
    "\n",
    "def extract_text_from_pdf(pdf_path):\n",
    "    # Open the PDF file\n",
    "    document = fitz.open(pdf_path)\n",
    "    \n",
    "    # Initialize an empty string for text accumulation\n",
    "    full_text = \"\"\n",
    "    \n",
    "    # Loop through each page in the PDF\n",
    "    for page_num in range(len(document)):\n",
    "        # Get the page\n",
    "        page = document.load_page(page_num)\n",
    "        \n",
    "        # Extract text from the page\n",
    "        text = page.get_text()\n",
    "        \n",
    "        # Append the text to the full_text variable\n",
    "        full_text += text\n",
    "    \n",
    "    # Close the document\n",
    "    document.close()\n",
    "    \n",
    "    return full_text\n",
    "\n",
    "# Example usage\n",
    "pdf_path = 'PDFs/WissZeitVG.pdf'\n",
    "extracted_text = extract_text_from_pdf(pdf_path)\n",
    "\n",
    "extracted_text = extracted_text.replace('Ein Service des Bundesministeriums der Justiz sowie des Bundesamts für', ' ')\n",
    "extracted_text = extracted_text.replace('Justiz ‒ www.gesetze-im-internet.de', ' ')\n",
    "extracted_text = '\\n'.join(line for line in extracted_text.split('\\n') if not line.startswith('-') and not line.endswith('-'))\n",
    "\n",
    "file_object = open(\"Data/WissZeitVG.txt\", 'w+')\n",
    "file_object.write(extracted_text)"
   ]
  }
 ],
 "metadata": {
  "kernelspec": {
   "display_name": "textConverter",
   "language": "python",
   "name": "python3"
  },
  "language_info": {
   "codemirror_mode": {
    "name": "ipython",
    "version": 3
   },
   "file_extension": ".py",
   "mimetype": "text/x-python",
   "name": "python",
   "nbconvert_exporter": "python",
   "pygments_lexer": "ipython3",
   "version": "3.10.0"
  }
 },
 "nbformat": 4,
 "nbformat_minor": 2
}
